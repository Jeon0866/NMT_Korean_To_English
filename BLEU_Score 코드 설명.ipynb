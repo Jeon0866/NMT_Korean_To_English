{
 "cells": [
  {
   "cell_type": "markdown",
   "metadata": {},
   "source": [
    "# BLEU\n",
    "\n",
    "출처 : https://donghwa-kim.github.io/BLEU.html\n",
    "\n",
    "- BLEU(Bilingual Evaluation Understudy) score란 성과지표로 데이터의 X가 순서정보를 가진 단어들(문장)로 이루어져 있고, y 또한 단어들의 시리즈(문장)로 이루어진 경우에 사용되며, 번역에 하는 모델에 주로 사용 된다\n",
    "\n",
    "![calculation_bleu](img/bleu_1.png)"
   ]
  },
  {
   "cell_type": "markdown",
   "metadata": {},
   "source": [
    "![description_bleu](img/bleu_2.png)"
   ]
  },
  {
   "cell_type": "code",
   "execution_count": 1,
   "metadata": {},
   "outputs": [],
   "source": [
    "#n-gram 분석 https://blog.ilkyu.kr/entry/%EC%96%B8%EC%96%B4-%EB%AA%A8%EB%8D%B8%EB%A7%81-ngram\n",
    "\n",
    "#sentence: 분석할 문장, num_gram: n-gram 단위\n",
    "def word_ngram(sentence, num_gram):\n",
    "    # in the case a file is given, remove escape characters\n",
    "    sentence = sentence.replace('\\n', ' ').replace('\\r', ' ')\n",
    "    text = tuple(sentence.split(' '))\n",
    "    ngrams = [text[x:x+num_gram] for x in range(0, len(text)) if x+num_gram <= len(text)]\n",
    "    return list(ngrams)\n",
    "\n",
    "#n-gram 빈도 리스트 생성\n",
    "def make_freqlist(ngrams):\n",
    "    unique_ngrams = list(set(ngrams))\n",
    "    freqlist = [0 for _ in range(len(unique_ngrams))]\n",
    "    for ngram in ngrams:\n",
    "        idx = unique_ngrams.index(ngram)\n",
    "        freqlist[idx] +=1\n",
    "    result = [unique_ngrams, freqlist]\n",
    "    return result\n",
    "\n",
    " \n",
    "# 두개 ngram 얼마나 겹치는지\n",
    "def precision(output, target): # \n",
    "    result = 0\n",
    "    output_len = 0\n",
    "    for i in range(len(output[0])):\n",
    "        if output[0][i] in target[0]:\n",
    "            idx = target[0].index(output[0][i])\n",
    "            result += min(output[1][i], target[1][idx])\n",
    "    return result / sum(output[1])"
   ]
  },
  {
   "cell_type": "markdown",
   "metadata": {},
   "source": [
    "![description2](img/bleu_3.png)"
   ]
  },
  {
   "cell_type": "code",
   "execution_count": 2,
   "metadata": {},
   "outputs": [],
   "source": [
    "def n_gram_precision(sen_out, sen_tar):\n",
    "    output = []\n",
    "    target = []\n",
    "    tar_freq = []\n",
    "    for i in range(1,5):\n",
    "        n_gram = word_ngram(sen_out, i)\n",
    "        out_tmp = make_freqlist(n_gram)\n",
    "        output.append(out_tmp)\n",
    "        n_gram2 = word_ngram(sen_tar, i)\n",
    "        tar_tmp = make_freqlist(n_gram2)\n",
    "        target.append(tar_tmp)\n",
    "    result = 0\n",
    "    n_pre = 0\n",
    "    for i in range(len(output)):\n",
    "        n_pre = precision(output[i], target[i])\n",
    "        print(n_pre)\n",
    "        if i == 0:\n",
    "            result = n_pre\n",
    "        else:\n",
    "            result *= n_pre\n",
    "    # Brevity Penalty\n",
    "    result = pow(result, 1/4)\n",
    "    bp = min(1, sum(output[0][1])/sum(target[0][1]))\n",
    "    return bp * result"
   ]
  },
  {
   "cell_type": "code",
   "execution_count": 4,
   "metadata": {},
   "outputs": [
    {
     "name": "stdout",
     "output_type": "stream",
     "text": [
      "0.8333333333333334\n",
      "0.6\n",
      "0.25\n",
      "0.0\n"
     ]
    },
    {
     "data": {
      "text/plain": [
       "0.0"
      ]
     },
     "execution_count": 4,
     "metadata": {},
     "output_type": "execute_result"
    }
   ],
   "source": [
    "a = \"엇다게 . ᄄᆞᆯ 상제도 잇고 .\"\n",
    "b = \"엇다게 .  상제도 잇고 .\"\n",
    "\n",
    "n_gram_precision(a,b)"
   ]
  }
 ],
 "metadata": {
  "kernelspec": {
   "display_name": "Python 3",
   "language": "python",
   "name": "python3"
  },
  "language_info": {
   "codemirror_mode": {
    "name": "ipython",
    "version": 3
   },
   "file_extension": ".py",
   "mimetype": "text/x-python",
   "name": "python",
   "nbconvert_exporter": "python",
   "pygments_lexer": "ipython3",
   "version": "3.7.4"
  }
 },
 "nbformat": 4,
 "nbformat_minor": 4
}
