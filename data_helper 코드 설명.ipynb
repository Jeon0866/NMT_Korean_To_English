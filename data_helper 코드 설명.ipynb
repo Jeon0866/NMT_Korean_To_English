{
 "cells": [
  {
   "cell_type": "markdown",
   "metadata": {},
   "source": [
    "# Data Set"
   ]
  },
  {
   "cell_type": "code",
   "execution_count": null,
   "metadata": {},
   "outputs": [],
   "source": [
    "import os\n",
    "import shutil\n",
    "from abc import *\n",
    "import sentencepiece as spm\n",
    "import torch\n",
    "from torch.utils.data import Dataset\n",
    "\n",
    "device = torch.device(\"cuda:0\" if torch.cuda.is_available() else \"cpu\")\n",
    "\n",
    "\n",
    "def create_or_get_voca(save_path, ko_corpus_path=None, en_corpus_path=None, ko_vocab_size=5000, en_vocab_size=5000):\n",
    "    ko_corpus_prefix = 'ko_corpus_5000'        # vocab_size를 바꾸면 embedding_size도 변경\n",
    "    en_corpus_prefix = 'en_corpus_5000'\n",
    "\n",
    "    if ko_corpus_path and en_corpus_path:\n",
    "        templates = '--input={} --model_prefix={} --vocab_size={} ' \\\n",
    "                    '--bos_id=0 --eos_id=1 --unk_id=2 --pad_id=3'\n",
    "        # input : 학습시킬 텍스트의 위치\n",
    "        # model_prefix : 만들어질 모델 이름\n",
    "        # vocab_size : 사전의 크기\n",
    "        ko_model_train_cmd = templates.format(ko_corpus_path, ko_corpus_prefix, ko_vocab_size)\n",
    "        en_model_train_cmd = templates.format(en_corpus_path, en_corpus_prefix, en_vocab_size)\n",
    "\n",
    "        spm.SentencePieceTrainer.Train(ko_model_train_cmd)  # Korean 텍스트를 가지고 학습\n",
    "        spm.SentencePieceTrainer.Train(en_model_train_cmd)  # English 텍스트를 가지고 학습\n",
    "\n",
    "        # 파일을 저장위치로 이동\n",
    "        shutil.move(ko_corpus_prefix + '.model', save_path)\n",
    "        shutil.move(ko_corpus_prefix + '.vocab', save_path)\n",
    "        shutil.move(en_corpus_prefix + '.model', save_path)\n",
    "        shutil.move(en_corpus_prefix + '.vocab', save_path)\n",
    "\n",
    "    ko_sp = spm.SentencePieceProcessor()\n",
    "    en_sp = spm.SentencePieceProcessor()\n",
    "    ko_sp.load(os.path.join(save_path, ko_corpus_prefix+'.model'))  # model load\n",
    "    en_sp.load(os.path.join(save_path, en_corpus_prefix+'.model'))  # model load\n",
    "    return ko_sp, en_sp"
   ]
  },
  {
   "attachments": {
    "image.png": {
     "image/png": "[encoded data removed]"
    }
   },
   "cell_type": "markdown",
   "metadata": {},
   "source": [
    "- Vocabulary를 만드는 함수\n",
    "- 기존 Tokenizer\n",
    "    - 단어 개수에 비례하여 계산비용이 증가한다\n",
    "    - 만약 계산비용을 감소시키기 위해 개수를 제한한다면 미등록 단어가 발생한다.\n",
    "- 이를 보완한 것이 Word Piece Model\n",
    "    - 단어를 표현할 수 있는 subwords units으로 모든 단어를 표현\n",
    "    - 모든 단어의 시작에는 underbar를 붙임\n",
    "    - 그 중 2018년 구글에서 공개한 WPM인 Sentence piece를 사용할 것이다.\n",
    "- 여러 가지 vocab size 중 실험하여 5000을 선택\n",
    "\n",
    "![image.png](attachment:image.png)"
   ]
  },
  {
   "cell_type": "code",
   "execution_count": null,
   "metadata": {},
   "outputs": [],
   "source": [
    "class TranslationDataset(Dataset, metaclass=ABCMeta):\n",
    "    # Translation Dataset abstract class\n",
    "    # download, read data 등등을 하는 파트.\n",
    "    def __init__(self, x_path, y_path, ko_voc, en_voc, sequence_size):\n",
    "        self.x = open(x_path, 'r', encoding='utf-8').readlines()        # korean data 위치\n",
    "        self.y = open(y_path, 'r', encoding='utf-8').readlines()        # English data 위치\n",
    "        self.ko_voc = ko_voc                                            # Korean 사전\n",
    "        self.en_voc = en_voc                                            # English 사전\n",
    "        self.sequence_size = sequence_size                              # sequence 최대길이\n",
    "\n",
    "    def __len__(self):  # data size를 넘겨주는 파트\n",
    "        if len(self.x) != len(self.y):\n",
    "            raise IndexError('not equal x_path, y_path line size')\n",
    "        return len(self.x)\n",
    "\n",
    "    @abstractmethod\n",
    "    def encoder_input_to_vector(self, sentence: str): pass\n",
    "\n",
    "    @abstractmethod\n",
    "    def decoder_input_to_vector(self, sentence: str): pass\n",
    "\n",
    "    @abstractmethod\n",
    "    def decoder_output_to_vector(self, sentence: str): pass\n",
    "\n",
    "\n",
    "class LSTMSeq2SeqDataset(TranslationDataset):\n",
    "    # for Seq2Seq model & Seq2Seq attention model\n",
    "    # using google sentencepiece (https://github.com/google/sentencepiece.git)\n",
    "    def __init__(self, x_path, y_path, ko_voc, en_voc, sequence_size):\n",
    "        super().__init__(x_path, y_path, ko_voc, en_voc, sequence_size)\n",
    "        self.KO_PAD_ID = ko_voc['<pad>']    # 3 Padding\n",
    "        self.EN_PAD_ID = en_voc['<pad>']    # 3 Padding\n",
    "        self.EN_BOS_ID = en_voc['<s>']      # 0 Start Token\n",
    "        self.EN_EOS_ID = en_voc['</s>']     # 1 End Token\n",
    "\n",
    "    def __getitem__(self, idx):\n",
    "        encoder_input = self.encoder_input_to_vector(self.x[idx])\n",
    "        decoder_input = self.decoder_input_to_vector(self.y[idx])\n",
    "        decoder_output = self.decoder_output_to_vector(self.y[idx])\n",
    "        return encoder_input, decoder_input, decoder_output\n",
    "\n",
    "    def encoder_input_to_vector(self, sentence: str):\n",
    "        idx_list = self.ko_voc.EncodeAsIds(sentence)    # str -> idx\n",
    "        idx_list = self.padding(idx_list, self.KO_PAD_ID)   # padding 삽입\n",
    "        return torch.tensor(idx_list).to(device)\n",
    "\n",
    "    def decoder_input_to_vector(self, sentence: str):\n",
    "        idx_list = self.en_voc.EncodeAsIds(sentence)        # str -> idx\n",
    "        idx_list.insert(0, self.EN_BOS_ID)                  # Start Token 삽입\n",
    "        idx_list = self.padding(idx_list, self.EN_PAD_ID)   # padding 삽입\n",
    "        return torch.tensor(idx_list).to(device)\n",
    "\n",
    "    def decoder_output_to_vector(self, sentence: str):\n",
    "        idx_list = self.en_voc.EncodeAsIds(sentence)        # str -> idx\n",
    "        idx_list.append(self.EN_EOS_ID)                     # End Token 삽입\n",
    "        idx_list = self.padding(idx_list, self.EN_PAD_ID)   # padding 삽입\n",
    "        return torch.tensor(idx_list).to(device)\n",
    "\n",
    "    def padding(self, idx_list, padding_id):\n",
    "        length = len(idx_list)  # 리스트의 길이\n",
    "        if length < self.sequence_size:\n",
    "            # sentence가 sequence_size가 작으면 나머지를 padding token으로 채움\n",
    "            idx_list = idx_list + [padding_id for _ in range(self.sequence_size - len(idx_list))]\n",
    "        else:\n",
    "            idx_list = idx_list[:self.sequence_size]\n",
    "        return idx_list"
   ]
  },
  {
   "cell_type": "markdown",
   "metadata": {},
   "source": [
    "- dataset을 만들어주는 함수\n",
    "- Start Token을 < s >로, End Token\n",
    "- < /s >로 설정, padding Token <pad>로 설정\n",
    "    \n",
    "- EncodeAsIds(sentence) : 문장을 넣으면 해당 vocab에서 id를 찾아서 리턴\n",
    "<br><br>\n",
    "- Encoder Input 에는 따로 Start token이나 End Token을 붙여주지 않고\n",
    "- Decoder Input에는 start Token을 삽입\n",
    "- Decoder output에는 End Token을 삽입 "
   ]
  }
 ],
 "metadata": {
  "kernelspec": {
   "display_name": "tensorflow",
   "language": "python",
   "name": "tensorflow_gpu"
  },
  "language_info": {
   "codemirror_mode": {
    "name": "ipython",
    "version": 3
   },
   "file_extension": ".py",
   "mimetype": "text/x-python",
   "name": "python",
   "nbconvert_exporter": "python",
   "pygments_lexer": "ipython3",
   "version": "3.7.4"
  }
 },
 "nbformat": 4,
 "nbformat_minor": 2
}
